{
 "cells": [
  {
   "cell_type": "code",
   "execution_count": 1,
   "metadata": {},
   "outputs": [
    {
     "name": "stdout",
     "output_type": "stream",
     "text": [
      "Hello World\n"
     ]
    }
   ],
   "source": [
    "import ison\n",
    "\n",
    "dicData = {\"__locals__\": {\"Hello\": \"World\"}, \"result\": \"Hello ${Hello}\"}\n",
    "xResult = ison.run.Run(xData=dicData, sResultKey=\"result\")\n",
    "\n",
    "print(xResult)"
   ]
  }
 ],
 "metadata": {
  "interpreter": {
   "hash": "eae0ec4ec3a20330195dd071758937574b38e946e4613a15a023a8464ce404cb"
  },
  "kernelspec": {
   "display_name": "Python 3.10.4 ('cath3')",
   "language": "python",
   "name": "python3"
  },
  "language_info": {
   "codemirror_mode": {
    "name": "ipython",
    "version": 3
   },
   "file_extension": ".py",
   "mimetype": "text/x-python",
   "name": "python",
   "nbconvert_exporter": "python",
   "pygments_lexer": "ipython3",
   "version": "3.10.4"
  },
  "orig_nbformat": 4
 },
 "nbformat": 4,
 "nbformat_minor": 2
}
